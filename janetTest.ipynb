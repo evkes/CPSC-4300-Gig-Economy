{
 "cells": [
  {
   "cell_type": "code",
   "execution_count": 41,
   "metadata": {},
   "outputs": [
    {
     "name": "stdout",
     "output_type": "stream",
     "text": [
      "The autoreload extension is already loaded. To reload it, use:\n",
      "  %reload_ext autoreload\n"
     ]
    }
   ],
   "source": [
    "%load_ext autoreload\n",
    "%autoreload 2\n",
    "import pandas as pd\n",
    "import os\n",
    "import checkpoint2\n",
    "import matplotlib.pyplot as plt\n",
    "import numpy as np\n",
    "from sklearn.svm import SVC\n",
    "from textblob import TextBlob\n",
    "from IPython.display import HTML\n",
    "from sklearn.model_selection import train_test_split\n",
    "from textblob.classifiers import NaiveBayesClassifier\n",
    "from sklearn.cluster import KMeans\n",
    "from sklearn.preprocessing import MinMaxScaler\n",
    "from sklearn.tree import DecisionTreeClassifier\n",
    "from sklearn.neural_network import MLPClassifier\n",
    "from sklearn.neighbors import KNeighborsClassifier\n",
    "from sklearn.model_selection import GridSearchCV, KFold\n",
    "\n",
    "RANDOM_STATE = 42"
   ]
  },
  {
   "cell_type": "code",
   "execution_count": 86,
   "metadata": {},
   "outputs": [],
   "source": [
    "if not os.path.exists(\"uber_preprocessed.csv\") or not os.path.exists(\"lyft_preprocessed.csv\"):\n",
    "    uber = pd.read_csv(\"uber_cleaned.csv\").dropna().astype({'Invited': 'int32', \"Unfair\": 'int32'})\n",
    "    lyft = pd.read_csv(\"lyft_cleaned.csv\").astype({'Invited': 'int32'})\n",
    "    uber['# Reviews By User'] = pd.to_numeric(uber['# Reviews By User'], errors='coerce')\n",
    "    lyft[\"# Reviews By User\"] = pd.to_numeric(lyft['# Reviews By User'], errors='coerce')\n",
    "    uber = uber.dropna(subset=['# Reviews By User'])\n",
    "    lyft = lyft.dropna(subset=['# Reviews By User'])\n",
    "    raw_uber = uber.copy()\n",
    "    raw_lyft = lyft.copy()\n",
    "\n",
    "\n",
    "    lyft[\"Review Body\"] = checkpoint2.preprocess_reviews(lyft)\n",
    "    uber[\"Review Body\"] = checkpoint2.preprocess_reviews(uber)\n",
    "    uber.to_csv(\"uber_preprocessed.csv\", index=False)\n",
    "    lyft.to_csv(\"lyft_preprocessed.csv\", index=False)\n",
    "else:\n",
    "    raw_uber = pd.read_csv(\"uber_cleaned.csv\").dropna().astype({'Invited': 'int32', \"Unfair\": 'int32'})\n",
    "    raw_lyft = pd.read_csv(\"lyft_cleaned.csv\").astype({'Invited': 'int32'})\n",
    "    raw_uber['# Reviews By User'] = pd.to_numeric(raw_uber['# Reviews By User'], errors='coerce')\n",
    "    raw_lyft[\"# Reviews By User\"] = pd.to_numeric(raw_lyft['# Reviews By User'], errors='coerce')\n",
    "    raw_uber = raw_uber.dropna(subset=['# Reviews By User'])\n",
    "    raw_lyft = raw_lyft.dropna(subset=['# Reviews By User'])\n",
    "\n",
    "\n",
    "    uber = pd.read_csv(\"uber_preprocessed.csv\")\n",
    "    lyft = pd.read_csv(\"lyft_preprocessed.csv\")\n",
    "\n",
    "ALREADY_PREPROCESSED = True"
   ]
  },
  {
   "cell_type": "code",
   "execution_count": 43,
   "metadata": {},
   "outputs": [],
   "source": [
    "from sklearn.base import BaseEstimator, TransformerMixin\n",
    "\n",
    "sentiment = checkpoint2.get_weighed_sentiment_counts(checkpoint2.get_sentiment_and_counts(uber))\n",
    "class SentimentTransformer(BaseEstimator, TransformerMixin):\n",
    "    def fit(self, X, y=None): return self\n",
    "    def transform(self, X):\n",
    "        X = X.copy()\n",
    "        if not ALREADY_PREPROCESSED: X[\"Review Body\"] = checkpoint2.preprocess_reviews(X)\n",
    "        X[\"Review Body\"] = [str(review) for review in X[\"Review Body\"]]\n",
    "        X['Sentiment'] = [sum([sentiment[word] if word in sentiment else 0 for word in str(review).split()]) for review in X[\"Review Body\"]]\n",
    "        return X\n"
   ]
  },
  {
   "cell_type": "code",
   "execution_count": 44,
   "metadata": {},
   "outputs": [],
   "source": [
    "from sklearn.feature_extraction.text import TfidfVectorizer\n",
    "from sklearn.compose import ColumnTransformer\n",
    "from sklearn.naive_bayes import MultinomialNB\n",
    "from sklearn.pipeline import Pipeline\n",
    "\n",
    "multinomial_transformer = ColumnTransformer([\n",
    "    ('title_vect', TfidfVectorizer(max_df=0.5, max_features=18, min_df=0, stop_words='english', sublinear_tf=True, use_idf=False), 'Review Title'), \n",
    "    ('body_vect', TfidfVectorizer(max_df=0.5, max_features=144, min_df=0, stop_words=None, sublinear_tf=True, use_idf=True), 'Review Body')\n",
    "])\n",
    "\n",
    "multinomial_classifier = Pipeline([\n",
    "    ('selector', multinomial_transformer),\n",
    "    ('clf', MultinomialNB())\n",
    "])\n",
    "labeled = uber[uber.Unfair.notnull()]\n",
    "X_labeled = labeled.loc[:, labeled.columns != 'Unfair']\n",
    "y_labeled = labeled['Unfair']\n",
    "\n",
    "# labeled.head()\n",
    "# tmp = multinomial_transformer.fit_transform(X_labeled, y_labeled)\n",
    "# checkpoint2.validate_model(multinomial_classifier, 5, X_labeled, y_labeled)"
   ]
  },
  {
   "cell_type": "code",
   "execution_count": 45,
   "metadata": {},
   "outputs": [
    {
     "data": {
      "text/plain": [
       "array([0.89917355, 0.59052632, 0.73715957, 0.64825451, 0.89917355])"
      ]
     },
     "execution_count": 45,
     "metadata": {},
     "output_type": "execute_result"
    }
   ],
   "source": [
    "# clf = GridSearchCV(multinomial_classifier, {'selector__title_vect__use_idf': [False], 'selector__body_vect__use_idf': [True], \n",
    "#                                             'selector__body_vect__max_features': [144], \n",
    "#                                             'selector__title_vect__max_features': [18],\n",
    "#                                             'selector__body_vect__max_df': [0.5],\n",
    "#                                             'selector__body_vect__min_df': [0.0],\n",
    "#                                             'selector__title_vect__max_df': [0.5],\n",
    "#                                             'selector__title_vect__min_df': [0.0],\n",
    "#                                             'selector__title_vect__stop_words': ['english', None],\n",
    "#                                             'selector__body_vect__stop_words': ['english', None],\n",
    "#                                             'selector__title_vect__sublinear_tf': [True, False],\n",
    "#                                             'selector__body_vect__sublinear_tf': [True, False],\n",
    "#                                             'clf__alpha': [6.0]}\n",
    "#                                             , n_jobs=-1, refit=True).fit(X_labeled, y_labeled)\n",
    "from pprint import pprint\n",
    "checkpoint2.validate_model(multinomial_classifier, 5, X_labeled, y_labeled)"
   ]
  },
  {
   "cell_type": "code",
   "execution_count": 46,
   "metadata": {},
   "outputs": [],
   "source": [
    "from sklearn.compose import make_column_selector, make_column_transformer\n",
    "\n",
    "numerical_transformer = Pipeline([\n",
    "    ('sentiment', SentimentTransformer()),\n",
    "    ('selector', make_column_transformer((MinMaxScaler(), make_column_selector(dtype_include=np.number))))\n",
    "])\n",
    "\n",
    "svm_classifier = Pipeline([\n",
    "    ('selector', numerical_transformer),\n",
    "    ('clf', SVC(C=1.0, kernel='poly', degree=4, gamma='auto', coef0=0.0, probability=True, class_weight=None, random_state=RANDOM_STATE))\n",
    "])\n",
    "\n",
    "def perform_grid_search(model, params, splits=5, jobs=3, X=X_labeled):\n",
    "    clf = GridSearchCV(model, param_grid=params, refit=True, cv=splits, n_jobs=jobs, verbose=3).fit(X, y_labeled)\n",
    "    pprint(clf.best_params_)\n",
    "    pprint(clf.best_score_)\n",
    "    # pprint(checkpoint2.validate_model(model, splits, X, y_labeled))\n",
    "\n",
    "# clf = GridSearchCV(SVC(), {\n",
    "#     'C': np.linspace(0, 1.5, 10),\n",
    "#     'kernel': ['poly'],\n",
    "#     'degree': [4, 5],\n",
    "#     'gamma': ['auto', 'scale'],\n",
    "#     'coef0': [0.0],\n",
    "#     'probability': [True],\n",
    "#     'class_weight': [None, 'balanced'],\n",
    "#     'random_state': [RANDOM_STATE]\n",
    "# }, n_jobs=3, refit=True).fit(numerical_transformer.fit_transform(X_labeled), y_labeled)\n",
    "\n",
    "# checkpoint2.validate_model(svm_classifier, 5, X_labeled, y_labeled)"
   ]
  },
  {
   "cell_type": "code",
   "execution_count": 47,
   "metadata": {},
   "outputs": [],
   "source": [
    "dt_classifier = Pipeline([\n",
    "    ('selector', numerical_transformer),\n",
    "    ('clf', DecisionTreeClassifier(criterion='gini', splitter='best', min_samples_split=0.325, max_features='sqrt', random_state=RANDOM_STATE, class_weight=None))\n",
    "])\n",
    "\n",
    "# perform_grid_search(DecisionTreeClassifier(), {\n",
    "#     'criterion': ['gini', 'entropy'],\n",
    "#     'splitter': ['best'],\n",
    "#     'min_samples_split': np.linspace(0.1, 0.4, 5),\n",
    "#     'max_features': ['sqrt'],\n",
    "#     'random_state': [RANDOM_STATE],\n",
    "#     'class_weight': [None, 'balanced'],\n",
    "# }, 5, 3, X=numerical_transformer.fit_transform(X_labeled))"
   ]
  },
  {
   "cell_type": "code",
   "execution_count": 110,
   "metadata": {},
   "outputs": [],
   "source": [
    "distorsions = []\n",
    "from sklearn.cluster import BisectingKMeans\n",
    "\n",
    "both = pd.concat([uber, lyft]).iloc[:, uber.columns != 'Unfair']\n",
    "X_numerical = numerical_transformer.fit_transform(both)\n",
    "\n",
    "kmeans = BisectingKMeans(n_clusters=5, random_state=RANDOM_STATE)\n",
    "clusters = pd.Series(kmeans.fit_predict(X_numerical), name='Cluster')\n",
    "\n",
    "# Use this to combine clusters + raw reviews so it's easier to look at\n",
    "combined = pd.concat([raw_uber, raw_lyft])\n",
    "combined = pd.concat([combined.reset_index(drop=True), clusters], axis=1)"
   ]
  },
  {
   "cell_type": "code",
   "execution_count": 126,
   "metadata": {},
   "outputs": [
    {
     "data": {
      "text/html": [
       "<table>\n",
       "<thead>\n",
       "<tr><th style=\"text-align: right;\">   </th><th style=\"text-align: right;\">  # Reviews By User</th><th style=\"text-align: right;\">  Invited</th><th style=\"text-align: right;\">  Rating</th><th>Review Body                                                                                                                                                                                                                                                                                                                                                                                                                                                                                                                    </th><th style=\"text-align: right;\">  Unfair</th><th>Company  </th><th style=\"text-align: right;\">  Cluster</th></tr>\n",
       "</thead>\n",
       "<tbody>\n",
       "<tr><td style=\"text-align: right;\">202</td><td style=\"text-align: right;\">                  1</td><td style=\"text-align: right;\">        1</td><td style=\"text-align: right;\">       5</td><td>driver got me there on time.\r\n",
       "that&#x27;s the bottom line.\r\n",
       "\r\n",
       "thank you kindly 😊                                                                                                                                                                                                                                                                                                                                                                                                                                                                                                                                </td><td style=\"text-align: right;\">       0</td><td>Uber     </td><td style=\"text-align: right;\">        1</td></tr>\n",
       "<tr><td style=\"text-align: right;\">193</td><td style=\"text-align: right;\">                  1</td><td style=\"text-align: right;\">        1</td><td style=\"text-align: right;\">       5</td><td>i had to go to the hospital at night in a hurry. both drivers to and from the hospital were very safe drivers, showed up within 6 minutes and drove me to safety.                                                                                                                                                                                                                                                                                                                                                              </td><td style=\"text-align: right;\">       0</td><td>Uber     </td><td style=\"text-align: right;\">        1</td></tr>\n",
       "<tr><td style=\"text-align: right;\">104</td><td style=\"text-align: right;\">                  1</td><td style=\"text-align: right;\">        1</td><td style=\"text-align: right;\">       5</td><td>my driver was on time and had a very clean vehicle and i’m sure the company wants this out of each employee. thank you                                                                                                                                                                                                                                                                                                                                                                                                         </td><td style=\"text-align: right;\">       0</td><td>Uber     </td><td style=\"text-align: right;\">        1</td></tr>\n",
       "<tr><td style=\"text-align: right;\"> 79</td><td style=\"text-align: right;\">                  1</td><td style=\"text-align: right;\">        1</td><td style=\"text-align: right;\">       5</td><td>daniel was very cool and a good driver. no complaints.                                                                                                                                                                                                                                                                                                                                                                                                                                                                         </td><td style=\"text-align: right;\">       0</td><td>Uber     </td><td style=\"text-align: right;\">        1</td></tr>\n",
       "<tr><td style=\"text-align: right;\">448</td><td style=\"text-align: right;\">                  1</td><td style=\"text-align: right;\">        1</td><td style=\"text-align: right;\">       5</td><td>great drivers,  great cars.                                                                                                                                                                                                                                                                                                                                                                                                                                                                                                    </td><td style=\"text-align: right;\">       0</td><td>Uber     </td><td style=\"text-align: right;\">        1</td></tr>\n",
       "<tr><td style=\"text-align: right;\"> 55</td><td style=\"text-align: right;\">                  1</td><td style=\"text-align: right;\">        1</td><td style=\"text-align: right;\">       5</td><td>everything went as well as possible, pricing, driver, car, communication, etc.                                                                                                                                                                                                                                                                                                                                                                                                                                                 </td><td style=\"text-align: right;\">       0</td><td>Uber     </td><td style=\"text-align: right;\">        1</td></tr>\n",
       "<tr><td style=\"text-align: right;\">144</td><td style=\"text-align: right;\">                  7</td><td style=\"text-align: right;\">        1</td><td style=\"text-align: right;\">       5</td><td>prompt pick up ..steady and polite driver\r\n",
       "very clean car                                                                                                                                                                                                                                                                                                                                                                                                                                                                                                                                </td><td style=\"text-align: right;\">       0</td><td>Uber     </td><td style=\"text-align: right;\">        1</td></tr>\n",
       "<tr><td style=\"text-align: right;\">524</td><td style=\"text-align: right;\">                  1</td><td style=\"text-align: right;\">        1</td><td style=\"text-align: right;\">       5</td><td>wonderful. the driver was polite and friendly.                                                                                                                                                                                                                                                                                                                                                                                                                                                                                 </td><td style=\"text-align: right;\">       0</td><td>Uber     </td><td style=\"text-align: right;\">        1</td></tr>\n",
       "<tr><td style=\"text-align: right;\">228</td><td style=\"text-align: right;\">                  1</td><td style=\"text-align: right;\">        1</td><td style=\"text-align: right;\">       5</td><td>drivers were prompt and courteous. they got me to my destination in the most efficient way.                                                                                                                                                                                                                                                                                                                                                                                                                                    </td><td style=\"text-align: right;\">       0</td><td>Uber     </td><td style=\"text-align: right;\">        1</td></tr>\n",
       "<tr><td style=\"text-align: right;\">542</td><td style=\"text-align: right;\">                  1</td><td style=\"text-align: right;\">        1</td><td style=\"text-align: right;\">       5</td><td>quick pickup even with snowy conditions, emmanuel was so friendly and a very attentive driver with bad road conditions                                                                                                                                                                                                                                                                                                                                                                                                         </td><td style=\"text-align: right;\">       0</td><td>Uber     </td><td style=\"text-align: right;\">        1</td></tr>\n",
       "<tr><td style=\"text-align: right;\">214</td><td style=\"text-align: right;\">                  1</td><td style=\"text-align: right;\">        1</td><td style=\"text-align: right;\">       5</td><td>on tie, prompt, nice car, friendly driver.                                                                                                                                                                                                                                                                                                                                                                                                                                                                                     </td><td style=\"text-align: right;\">       0</td><td>Uber     </td><td style=\"text-align: right;\">        1</td></tr>\n",
       "<tr><td style=\"text-align: right;\">477</td><td style=\"text-align: right;\">                  1</td><td style=\"text-align: right;\">        1</td><td style=\"text-align: right;\">       5</td><td>the driver was excellent. he was on-time, and a really good driver; a professional behind the wheel who stayed within the speed limits and didn’t engage in aggressive driving behavior even though encountering several stupid drivers along the way. i hope to have him drive me again.                                                                                                                                                                                                                                      </td><td style=\"text-align: right;\">       0</td><td>Uber     </td><td style=\"text-align: right;\">        1</td></tr>\n",
       "<tr><td style=\"text-align: right;\">534</td><td style=\"text-align: right;\">                  2</td><td style=\"text-align: right;\">        1</td><td style=\"text-align: right;\">       5</td><td>driver was friendly and prompt. car was super clean and even had xmas lights inside.                                                                                                                                                                                                                                                                                                                                                                                                                                           </td><td style=\"text-align: right;\">       0</td><td>Uber     </td><td style=\"text-align: right;\">        1</td></tr>\n",
       "<tr><td style=\"text-align: right;\">107</td><td style=\"text-align: right;\">                 49</td><td style=\"text-align: right;\">        1</td><td style=\"text-align: right;\">       4</td><td>have started to use uber &amp; uber eats a lot more these days, and more so when travelling around the us. based on my last 10 rides, all was great, vehicles always clean, drivers are polite and helpful with bags and offer local suggestions etc.. ride costs are fair and the app works well. i would happily given 5 stars for uber ride alone.\r\n",
       "uber eat is not so slick hence losing point, only little use in the uk (was ok) but my main use being in the us, delivery charges are not consistent i had some free and $7, the logistics when driver has more than 1 stop needs to be reviewed. food not as hot as it could be if they had used a thermos bag. would be good if they wore branded top etc..                                                                                                                                                                                                                                                                                                                                                                                                                                                                                                                                </td><td style=\"text-align: right;\">       1</td><td>Uber     </td><td style=\"text-align: right;\">        1</td></tr>\n",
       "<tr><td style=\"text-align: right;\">421</td><td style=\"text-align: right;\">                  1</td><td style=\"text-align: right;\">        1</td><td style=\"text-align: right;\">       5</td><td>on time\r\n",
       "friendly driver\r\n",
       "clean ride                                                                                                                                                                                                                                                                                                                                                                                                                                                                                                                                </td><td style=\"text-align: right;\">       0</td><td>Uber     </td><td style=\"text-align: right;\">        1</td></tr>\n",
       "<tr><td style=\"text-align: right;\">217</td><td style=\"text-align: right;\">                  3</td><td style=\"text-align: right;\">        1</td><td style=\"text-align: right;\">       5</td><td>drivers great.  quick pickup.  felt safe. driver wanted to be sure i was correct person to pick up.                                                                                                                                                                                                                                                                                                                                                                                                                            </td><td style=\"text-align: right;\">       0</td><td>Uber     </td><td style=\"text-align: right;\">        1</td></tr>\n",
       "<tr><td style=\"text-align: right;\">427</td><td style=\"text-align: right;\">                 35</td><td style=\"text-align: right;\">        1</td><td style=\"text-align: right;\">       4</td><td>courteous drivers who usually turn-up. would have been 5 stars if 100% reliable.                                                                                                                                                                                                                                                                                                                                                                                                                                               </td><td style=\"text-align: right;\">       0</td><td>Uber     </td><td style=\"text-align: right;\">        1</td></tr>\n",
       "<tr><td style=\"text-align: right;\"> 46</td><td style=\"text-align: right;\">                  1</td><td style=\"text-align: right;\">        1</td><td style=\"text-align: right;\">       5</td><td>being able to know when our driver would arrive was helpful. driver was very efficient and courteous.                                                                                                                                                                                                                                                                                                                                                                                                                          </td><td style=\"text-align: right;\">       0</td><td>Uber     </td><td style=\"text-align: right;\">        1</td></tr>\n",
       "<tr><td style=\"text-align: right;\">512</td><td style=\"text-align: right;\">                  1</td><td style=\"text-align: right;\">        1</td><td style=\"text-align: right;\">       5</td><td>the driver kellen was very polite. i felt safe. i&#x27;ve used uber for the last two months. i have ordered 11 rides and all were great. your company gets 5 stars. keep up the good work.👍                                                                                                                                                                                                                                                                                                                                        </td><td style=\"text-align: right;\">       0</td><td>Uber     </td><td style=\"text-align: right;\">        1</td></tr>\n",
       "<tr><td style=\"text-align: right;\">433</td><td style=\"text-align: right;\">                  1</td><td style=\"text-align: right;\">        1</td><td style=\"text-align: right;\">       5</td><td>drivers on time being able to be confirmed with tag id                                                                                                                                                                                                                                                                                                                                                                                                                                                                         </td><td style=\"text-align: right;\">       0</td><td>Uber     </td><td style=\"text-align: right;\">        1</td></tr>\n",
       "<tr><td style=\"text-align: right;\">517</td><td style=\"text-align: right;\">                  1</td><td style=\"text-align: right;\">        1</td><td style=\"text-align: right;\">       5</td><td>my driver ernest was amazing and very professional. i wouldn’t traverse any other way.                                                                                                                                                                                                                                                                                                                                                                                                                                         </td><td style=\"text-align: right;\">       0</td><td>Uber     </td><td style=\"text-align: right;\">        1</td></tr>\n",
       "<tr><td style=\"text-align: right;\">486</td><td style=\"text-align: right;\">                  1</td><td style=\"text-align: right;\">        1</td><td style=\"text-align: right;\">       5</td><td>the cars were clean and the drivers were hospitable.                                                                                                                                                                                                                                                                                                                                                                                                                                                                           </td><td style=\"text-align: right;\">       0</td><td>Uber     </td><td style=\"text-align: right;\">        1</td></tr>\n",
       "<tr><td style=\"text-align: right;\">482</td><td style=\"text-align: right;\">                  4</td><td style=\"text-align: right;\">        1</td><td style=\"text-align: right;\">       5</td><td>drivers were nice. drivers were on time. drivers drove safely.                                                                                                                                                                                                                                                                                                                                                                                                                                                                 </td><td style=\"text-align: right;\">       0</td><td>Uber     </td><td style=\"text-align: right;\">        1</td></tr>\n",
       "<tr><td style=\"text-align: right;\">197</td><td style=\"text-align: right;\">                  2</td><td style=\"text-align: right;\">        1</td><td style=\"text-align: right;\">       5</td><td>driver was fantastic. very engaging and funny and helpful                                                                                                                                                                                                                                                                                                                                                                                                                                                                      </td><td style=\"text-align: right;\">       0</td><td>Uber     </td><td style=\"text-align: right;\">        1</td></tr>\n",
       "<tr><td style=\"text-align: right;\">129</td><td style=\"text-align: right;\">                  3</td><td style=\"text-align: right;\">        1</td><td style=\"text-align: right;\">       5</td><td>well organised at the airport with the pin system and great pickup location\r\n",
       "clear instructions via the app to get to uber\r\n",
       "nice car and clean\r\n",
       "friendly helpful driver\r\n",
       "paid less than taxi\r\n",
       "great service and experience                                                                                                                                                                                                                                                                                                                                                                                                                                                                                                                                </td><td style=\"text-align: right;\">       0</td><td>Uber     </td><td style=\"text-align: right;\">        1</td></tr>\n",
       "<tr><td style=\"text-align: right;\">500</td><td style=\"text-align: right;\">                  1</td><td style=\"text-align: right;\">        1</td><td style=\"text-align: right;\">       5</td><td>i never used uber before and was a bit reluctant but being stranded &quot;twice&quot; by another so called reputable shuttle service i threw caution to the wind and scheduled an uber.  i couldn&#x27;t have been more satisfied.  it was a very early pickup and i had my fingers crossed but the driver was actually early for the pick up of my party of four and we made it to the airport with plenty of time to get through security and to the gate.  was very impressed with the uber app technology for scheduling and notification.</td><td style=\"text-align: right;\">       0</td><td>Uber     </td><td style=\"text-align: right;\">        1</td></tr>\n",
       "<tr><td style=\"text-align: right;\">174</td><td style=\"text-align: right;\">                  1</td><td style=\"text-align: right;\">        1</td><td style=\"text-align: right;\">       5</td><td>my driver was lovely\r\n",
       "arrived before time\r\n",
       "got out his car and assisted me with my luggage\r\n",
       "a safe well mannered man who made my trip to the airport very enjoyable                                                                                                                                                                                                                                                                                                                                                                                                                                                                                                                                </td><td style=\"text-align: right;\">       0</td><td>Uber     </td><td style=\"text-align: right;\">        1</td></tr>\n",
       "<tr><td style=\"text-align: right;\">301</td><td style=\"text-align: right;\">                  1</td><td style=\"text-align: right;\">        1</td><td style=\"text-align: right;\">       5</td><td>timely, courteous driver and inexpensive.  plus, no money exchange between driver &amp; passenger.  you know exactly what the trip will cost. no arguments.                                                                                                                                                                                                                                                                                                                                                                        </td><td style=\"text-align: right;\">       0</td><td>Uber     </td><td style=\"text-align: right;\">        1</td></tr>\n",
       "<tr><td style=\"text-align: right;\">348</td><td style=\"text-align: right;\">                  1</td><td style=\"text-align: right;\">        1</td><td style=\"text-align: right;\">       5</td><td>convenient and useful service at the airport especially when arriving in the middle of the night.\r\n",
       "the driver muharam ali was very helpful with the bags which is something we appreciated.                                                                                                                                                                                                                                                                                                                                                                                                                                                                                                                                </td><td style=\"text-align: right;\">       0</td><td>Uber     </td><td style=\"text-align: right;\">        1</td></tr>\n",
       "<tr><td style=\"text-align: right;\">152</td><td style=\"text-align: right;\">                  3</td><td style=\"text-align: right;\">        1</td><td style=\"text-align: right;\">       5</td><td>uber is fantastic. it is almost too good to be true. it is quick and efficient and not expensive. personally, i always give the driver a good tip, even for a short trip, as i am so impressed by their general usefulness.                                                                                                                                                                                                                                                                                                    </td><td style=\"text-align: right;\">       0</td><td>Uber     </td><td style=\"text-align: right;\">        1</td></tr>\n",
       "<tr><td style=\"text-align: right;\"> 24</td><td style=\"text-align: right;\">                  1</td><td style=\"text-align: right;\">        1</td><td style=\"text-align: right;\">       5</td><td>the driver was very informative of things to do in hawaii.  very polite and professional.  car was clean and well maintained.                                                                                                                                                                                                                                                                                                                                                                                                  </td><td style=\"text-align: right;\">       0</td><td>Uber     </td><td style=\"text-align: right;\">        1</td></tr>\n",
       "<tr><td style=\"text-align: right;\">119</td><td style=\"text-align: right;\">                  3</td><td style=\"text-align: right;\">        1</td><td style=\"text-align: right;\">       5</td><td>easy to reserve in advance, and find our driver, for a safe smooth ride home. great driver and beautiful clean car too.                                                                                                                                                                                                                                                                                                                                                                                                        </td><td style=\"text-align: right;\">       0</td><td>Uber     </td><td style=\"text-align: right;\">        1</td></tr>\n",
       "<tr><td style=\"text-align: right;\">366</td><td style=\"text-align: right;\">                  1</td><td style=\"text-align: right;\">        1</td><td style=\"text-align: right;\">       5</td><td>it was very good.  driver drove safely.                                                                                                                                                                                                                                                                                                                                                                                                                                                                                        </td><td style=\"text-align: right;\">       0</td><td>Uber     </td><td style=\"text-align: right;\">        1</td></tr>\n",
       "<tr><td style=\"text-align: right;\">169</td><td style=\"text-align: right;\">                  1</td><td style=\"text-align: right;\">        1</td><td style=\"text-align: right;\">       5</td><td>driver was friendly and i had a pleasant trip                                                                                                                                                                                                                                                                                                                                                                                                                                                                                  </td><td style=\"text-align: right;\">       0</td><td>Uber     </td><td style=\"text-align: right;\">        1</td></tr>\n",
       "<tr><td style=\"text-align: right;\">274</td><td style=\"text-align: right;\">                  1</td><td style=\"text-align: right;\">        1</td><td style=\"text-align: right;\">       5</td><td>i like the prompt pickup and the cleanliness of the vehicles and the professionalism of your drivers.                                                                                                                                                                                                                                                                                                                                                                                                                          </td><td style=\"text-align: right;\">       0</td><td>Uber     </td><td style=\"text-align: right;\">        1</td></tr>\n",
       "<tr><td style=\"text-align: right;\">185</td><td style=\"text-align: right;\">                  1</td><td style=\"text-align: right;\">        1</td><td style=\"text-align: right;\">       5</td><td>driver came right away.  he was polite and friendly.  the car was very clean and comfortable.                                                                                                                                                                                                                                                                                                                                                                                                                                  </td><td style=\"text-align: right;\">       0</td><td>Uber     </td><td style=\"text-align: right;\">        1</td></tr>\n",
       "<tr><td style=\"text-align: right;\">378</td><td style=\"text-align: right;\">                  1</td><td style=\"text-align: right;\">        1</td><td style=\"text-align: right;\">       5</td><td>driver was very considerate, was loading shedding when i booked and he waited till i got into the complex safely.                                                                                                                                                                                                                                                                                                                                                                                                              </td><td style=\"text-align: right;\">       0</td><td>Uber     </td><td style=\"text-align: right;\">        1</td></tr>\n",
       "<tr><td style=\"text-align: right;\">183</td><td style=\"text-align: right;\">                  1</td><td style=\"text-align: right;\">        1</td><td style=\"text-align: right;\">       4</td><td>the drivers seem reliable most are  friendly. the app didn&#x27;t seem to work few days ago on 29 and 30 january and i was forced to use bolt. please fix the app as i am your loyal customer and uber service supercedes that of bolt.                                                                                                                                                                                                                                                                                             </td><td style=\"text-align: right;\">       1</td><td>Uber     </td><td style=\"text-align: right;\">        1</td></tr>\n",
       "<tr><td style=\"text-align: right;\">125</td><td style=\"text-align: right;\">                  1</td><td style=\"text-align: right;\">        1</td><td style=\"text-align: right;\">       4</td><td>our driver was good but it took a while to get our ride from vancouver airport. we were coming back from the cruise terminal in long beach ca. earlier yesterday and had this exact same thing happened to us at both locations. we booked a trip and just a couple of minutes before the car’s arrival, the uber app restarted and we we back to square one. a taxi was definitely in our thoughts in both places. yes, more expensive but totally reliable. we were not impressed!                                           </td><td style=\"text-align: right;\">       1</td><td>Uber     </td><td style=\"text-align: right;\">        1</td></tr>\n",
       "<tr><td style=\"text-align: right;\"> 35</td><td style=\"text-align: right;\">                  7</td><td style=\"text-align: right;\">        1</td><td style=\"text-align: right;\">       5</td><td>i really can&#x27;t remember the drivers name but he was very pleasant and we had a very nice dialog during my ride.                                                                                                                                                                                                                                                                                                                                                                                                                </td><td style=\"text-align: right;\">       0</td><td>Uber     </td><td style=\"text-align: right;\">        1</td></tr>\n",
       "<tr><td style=\"text-align: right;\"> 72</td><td style=\"text-align: right;\">                  1</td><td style=\"text-align: right;\">        1</td><td style=\"text-align: right;\">       5</td><td>on time, clean car and very nice driver                                                                                                                                                                                                                                                                                                                                                                                                                                                                                        </td><td style=\"text-align: right;\">       0</td><td>Uber     </td><td style=\"text-align: right;\">        1</td></tr>\n",
       "<tr><td style=\"text-align: right;\">270</td><td style=\"text-align: right;\">                  2</td><td style=\"text-align: right;\">        1</td><td style=\"text-align: right;\">       5</td><td>the best taxi service to use. on time , no delay and responsible driver&#x27;s.                                                                                                                                                                                                                                                                                                                                                                                                                                                     </td><td style=\"text-align: right;\">       0</td><td>Uber     </td><td style=\"text-align: right;\">        1</td></tr>\n",
       "<tr><td style=\"text-align: right;\">456</td><td style=\"text-align: right;\">                  1</td><td style=\"text-align: right;\">        1</td><td style=\"text-align: right;\">       5</td><td>the driver is polite friendly and very professional.                                                                                                                                                                                                                                                                                                                                                                                                                                                                           </td><td style=\"text-align: right;\">       0</td><td>Uber     </td><td style=\"text-align: right;\">        1</td></tr>\n",
       "<tr><td style=\"text-align: right;\">493</td><td style=\"text-align: right;\">                  5</td><td style=\"text-align: right;\">        1</td><td style=\"text-align: right;\">       5</td><td>super pleasant driver, clean and comfortable ride.                                                                                                                                                                                                                                                                                                                                                                                                                                                                             </td><td style=\"text-align: right;\">       0</td><td>Uber     </td><td style=\"text-align: right;\">        1</td></tr>\n",
       "<tr><td style=\"text-align: right;\">177</td><td style=\"text-align: right;\">                  2</td><td style=\"text-align: right;\">        1</td><td style=\"text-align: right;\">       5</td><td>all the drivers have been friendly and polite. they have been careful drivers. cars i rode in were all clean. i’m a new user.                                                                                                                                                                                                                                                                                                                                                                                                  </td><td style=\"text-align: right;\">       0</td><td>Uber     </td><td style=\"text-align: right;\">        1</td></tr>\n",
       "<tr><td style=\"text-align: right;\"> 96</td><td style=\"text-align: right;\">                  1</td><td style=\"text-align: right;\">        1</td><td style=\"text-align: right;\">       5</td><td>driver was on time and got me to my destination in a safe and timely manner                                                                                                                                                                                                                                                                                                                                                                                                                                                    </td><td style=\"text-align: right;\">       0</td><td>Uber     </td><td style=\"text-align: right;\">        1</td></tr>\n",
       "<tr><td style=\"text-align: right;\">124</td><td style=\"text-align: right;\">                  1</td><td style=\"text-align: right;\">        1</td><td style=\"text-align: right;\">       5</td><td>what i find so great about uber is the convenience. i get where i want to go with no problem. my pickup driver is always on time, and i just love the way i can follow my driver&#x27;s route on the app. in addition, my experience with uber drivers has been very good so far. they have always been helpful and courteous.                                                                                                                                                                                                      </td><td style=\"text-align: right;\">       0</td><td>Uber     </td><td style=\"text-align: right;\">        1</td></tr>\n",
       "<tr><td style=\"text-align: right;\">132</td><td style=\"text-align: right;\">                 19</td><td style=\"text-align: right;\">        1</td><td style=\"text-align: right;\">       5</td><td>very happy with it.\r\n",
       "it was a nice n smooth ride and a very friendly driver.\r\n",
       "5 stars all day long.                                                                                                                                                                                                                                                                                                                                                                                                                                                                                                                                </td><td style=\"text-align: right;\">       0</td><td>Uber     </td><td style=\"text-align: right;\">        1</td></tr>\n",
       "<tr><td style=\"text-align: right;\">446</td><td style=\"text-align: right;\">                  1</td><td style=\"text-align: right;\">        1</td><td style=\"text-align: right;\">       5</td><td>all drivers were on time, professional and very safe drivers. pick ups were all less than 5 min after requesting the ride.                                                                                                                                                                                                                                                                                                                                                                                                     </td><td style=\"text-align: right;\">       0</td><td>Uber     </td><td style=\"text-align: right;\">        1</td></tr>\n",
       "<tr><td style=\"text-align: right;\">233</td><td style=\"text-align: right;\">                  2</td><td style=\"text-align: right;\">        1</td><td style=\"text-align: right;\">       5</td><td>uber just keeps getting better. i use the appointment function and really like it. only suggestion i would make is to provide contact info of drivers once they accept the reservation. prices are consistent and reasonable. thank you.                                                                                                                                                                                                                                                                                       </td><td style=\"text-align: right;\">       0</td><td>Uber     </td><td style=\"text-align: right;\">        1</td></tr>\n",
       "</tbody>\n",
       "</table>"
      ],
      "text/plain": [
       "<IPython.core.display.HTML object>"
      ]
     },
     "execution_count": 126,
     "metadata": {},
     "output_type": "execute_result"
    }
   ],
   "source": [
    "# Use this to get a random sample of the rows.\n",
    "# (Change the 1 to a different cluster number 1 <= n <= num_clusters. Limit is the amount of rows to get at once.)\n",
    "# Note that lyft does not have any labeled Unfair data. Sentiment is included in the clustering, but it's inconvient to get it to display here so I ignored it\n",
    "from tabulate import tabulate\n",
    "cols = [\"# Reviews By User\", \"Invited\", \"Rating\", \"Review Body\", \"Unfair\", \"Company\", \"Cluster\"]\n",
    "limit = 50\n",
    "cluster_num = 1\n",
    "HTML(tabulate(combined[combined.Cluster == cluster_num][cols].sample(limit), headers=cols, tablefmt='html'))\n"
   ]
  }
 ],
 "metadata": {
  "kernelspec": {
   "display_name": "Python 3",
   "language": "python",
   "name": "python3"
  },
  "language_info": {
   "codemirror_mode": {
    "name": "ipython",
    "version": 3
   },
   "file_extension": ".py",
   "mimetype": "text/x-python",
   "name": "python",
   "nbconvert_exporter": "python",
   "pygments_lexer": "ipython3",
   "version": "3.10.8"
  },
  "orig_nbformat": 4
 },
 "nbformat": 4,
 "nbformat_minor": 2
}
