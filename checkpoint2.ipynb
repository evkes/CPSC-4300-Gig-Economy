{
 "cells": [
  {
   "attachments": {},
   "cell_type": "markdown",
   "metadata": {},
   "source": [
    "## Gig Economy Project\n",
    "\n",
    "By: Janet Taylor & Evan Kessler\n",
    "\n",
    "Workers in the gig economy (i.e., Uber, GrubHub, TaskRabbit, etc.) depend on the reviews they get to continue working on the platform. Workers on those platforms are often affected by receiving negative reviews that describe elements that were not under their control. The project explores how the analysis of online reviews can detect when unfair reviews are left to workers and identify the type of unfair review that was left."
   ]
  },
  {
   "cell_type": "code",
   "execution_count": 28,
   "metadata": {},
   "outputs": [],
   "source": [
    "import pandas as pd"
   ]
  },
  {
   "cell_type": "code",
   "execution_count": 34,
   "metadata": {},
   "outputs": [
    {
     "data": {
      "text/plain": [
       "Index(['# Reviews By User', 'User URL', 'State', 'Username', 'Country',\n",
       "       'Date Review Given', 'Invited', 'Review URL', 'Review Title',\n",
       "       'Review Body', 'Date of Experience', 'Rating', 'Company', 'Unfair',\n",
       "       'Rating_Scaled'],\n",
       "      dtype='object')"
      ]
     },
     "execution_count": 34,
     "metadata": {},
     "output_type": "execute_result"
    }
   ],
   "source": [
    "uber = pd.read_csv(\"uber_cleaned.csv\")\n",
    "lyft = pd.read_csv(\"lyft_cleaned.csv\")\n",
    "uber['Rating_Scaled'] = (uber['Rating'] - 3) / 2\n",
    "lyft['Rating_Scaled'] = (uber['Rating'] - 3) / 2\n",
    "pd.options.display.max_colwidth = 500\n",
    "uber[\"Review Body\"].head()"
   ]
  },
  {
   "cell_type": "code",
   "execution_count": 30,
   "metadata": {},
   "outputs": [
    {
     "data": {
      "text/plain": [
       "0                                                                        all your driver's we very good, knowledgeable and friendly. however, ellie was exceptional. she established a rapport with my daughter and i in the very short time we were in the car with her. she was helpful, answered our questions about the island and even gave us a few suggestions on places she enjoyed eating. which in fact we did try freda's and it was good. thank you, ellie, for your service, customer service and helpfulness!\n",
       "1                                                                                                                                                                                                                                    driver canceled the ride because he couldn’t find us and we were charged $5.  we were waiting for him but he didn’t show up.  when i tried contacting him, i went directly into voicemail but couldn’t leave a message.  had to order another ride and the second driver picked us up.\n",
       "2                                                                                                                                                                                                                                          uber driver complained he does not know the route to destination. refused to talk to my friend who was trying to guide us. dropped me off 10 mins away from destination. demanded payment when it was already paid thro my amex. uber has not cared to respond to my complaints.\n",
       "3                                                                                                                        my drivers were great, on time, comfortable people, clean, enjoyed the ride. i would've given 5 stars if the price had been reasonable. a 2 mile 5 minute ride should not cost $27 one way and add a tip!! geez!! then to get home. a reasonable fee would be $12 one way! if it was within my budget would use uber more often.\\r\\nattn corporate please reconsider pricing for seniors thank you\n",
       "4                                                                                                                                                           my debit card was charged twice for a pre schedule ride on february 15th. the original driver never made pickup. i was also charged a cancellation fee after i schedule another ride. the issue has not been resolved by uber. i am a very dissatisfied customer. i will never use uber again, i feel i am being scammed.\\r\\nuber don't send me anymore emails.\n",
       "                                                                                                                                                                                                                                                               ...                                                                                                                                                                                                                                                         \n",
       "3766                                      i’m very disappointed with uber's services.  in the morning, tired after work, i waited to get home.  several drivers nearby and no one wants to accept the transport order.  finally, when after 10 minutes one driver graciously accepted the order, i waited another 10 minutes for him, where he was nearby.  i called to ask about the cancellation and the driver tells me he's on his way but not where it needs to be.  complete shock and total lack of professionalism.\n",
       "3767                                                                                                                                                    i had an uber driver tell me that he wouldn’t take me to the address i wanted to go to unless i sucked his dick. a few months later i got denied from being a driver for uber eats because i got a reckless driving a motorcycle. i would rather have someone drive fast on a motorcycle than someone that tried to rape women. uber does not really vette drivers.\n",
       "3768                                                                                                                                                                                                                                                                                                                                            i requested a ride, a driver confirmed, the time left was changing to shorter and again to longer. i’ve been waiting for 20 min in cold, when the driver canceled the ride.\n",
       "3769    my family and i are here in panama city beach, florida and we have no car. as we understand the rules, regulations, and guidelines to wear masks in ubers, we abide by these rules. kristen in panama city beach, florida turned us in for not having one on. here’s the issue i have with that:\\r\\nshe gave us juice, water, and snacks to eat while in the car. i even asked her if i could. were we suppose to eat with our masks on? if we were suppose to wait until we got to our destination then she sho...\n",
       "3770    the driver collected an expensive lunch for my parents from a bakers on my mums birthday ordered by my neice from maastricht.\\r\\n\\r\\nboth my parents had covid over christmas they couldn't see their grandchildren and this was a real nice surprise for them.\\r\\n\\r\\nthe notification came though saying it's been collected, then another saying it could not be delivered. then another saying it's been returned to the shop. all lies, what makes it worse is stealing from a little bakers after the year...\n",
       "Name: Review Body, Length: 3771, dtype: object"
      ]
     },
     "execution_count": 30,
     "metadata": {},
     "output_type": "execute_result"
    }
   ],
   "source": [
    "uber.columns\n",
    "\n",
    "uber['Review Body']"
   ]
  },
  {
   "cell_type": "code",
   "execution_count": 37,
   "metadata": {},
   "outputs": [
    {
     "name": "stderr",
     "output_type": "stream",
     "text": [
      "[nltk_data] Downloading package stopwords to\n",
      "[nltk_data]     C:\\Users\\evkes\\AppData\\Roaming\\nltk_data...\n",
      "[nltk_data]   Package stopwords is already up-to-date!\n"
     ]
    },
    {
     "name": "stdout",
     "output_type": "stream",
     "text": [
      "Top 20 words with highest weighted averages:\n",
      "awesome: 0.62\n",
      "excellent: 0.58\n",
      "wonderful: 0.57\n",
      "pleasant: 0.50\n",
      "enjoyed: 0.49\n",
      "great: 0.47\n",
      "courteous: 0.46\n",
      "perfect: 0.44\n",
      "nice: 0.44\n",
      "conversation: 0.44\n",
      "personable: 0.43\n",
      "knowledgeable: 0.42\n",
      "respectful: 0.41\n",
      "comfortable: 0.41\n",
      "prompt: 0.41\n",
      "clean: 0.41\n",
      "safely: 0.39\n",
      "safe: 0.39\n",
      "timely: 0.39\n",
      "friendly: 0.39\n",
      "\n",
      "Bottom 20 words with lowest weighted averages:\n",
      "stuck: -0.15\n",
      "background: -0.15\n",
      "useless: -0.15\n",
      "rude: -0.16\n",
      "mistake: -0.17\n",
      "wrong: -0.17\n",
      "disappointed: -0.17\n",
      "stupid: -0.19\n",
      "crap: -0.20\n",
      "cold: -0.20\n",
      "bad: -0.21\n",
      "impossible: -0.23\n",
      "disgusting: -0.26\n",
      "disgusted: -0.28\n",
      "terrible: -0.28\n",
      "horrible: -0.29\n",
      "worst: -0.30\n",
      "shocking: -0.30\n",
      "awful: -0.32\n",
      "pathetic: -0.33\n"
     ]
    }
   ],
   "source": [
    "import string\n",
    "import matplotlib.pyplot as plt\n",
    "from textblob import TextBlob\n",
    "from nltk.corpus import stopwords\n",
    "import pandas as pd\n",
    "import nltk\n",
    "nltk.download('stopwords')\n",
    "\n",
    "stop_words = set(stopwords.words('english'))\n",
    "\n",
    "translator = str.maketrans('', '', string.punctuation)\n",
    "reviews = [review.translate(translator) for review in uber['Review Body']]\n",
    "\n",
    "sentiment = {}\n",
    "for review in reviews:\n",
    "    blob = TextBlob(review)\n",
    "    for word in blob.words:\n",
    "        word = word.lower()\n",
    "        if word not in stop_words and len(word) > 2:\n",
    "            if word not in sentiment:\n",
    "                sentiment[word] = [blob.sentiment.polarity, 1]\n",
    "            else:\n",
    "                sentiment[word][0] += blob.sentiment.polarity\n",
    "                sentiment[word][1] += 1\n",
    "\n",
    "weighted_avg_dict = {}\n",
    "for word, (sentiment_sum, count) in sentiment.items():\n",
    "    if count > 20:\n",
    "        weighted_avg_dict[word] = sentiment_sum / count\n",
    "\n",
    "sorted_words = sorted(weighted_avg_dict.items(), key=lambda x: x[1], reverse=True)\n",
    "top_words = [word for word, avg in sorted_words if avg > 0][:20]\n",
    "bottom_words = [word for word, avg in sorted_words if avg < 0][:20]\n",
    "\n",
    "print(\"Top 20 words with highest weighted averages:\")\n",
    "for word, avg in sorted_words[:20]:\n",
    "    print(f\"{word}: {avg:.2f}\")\n",
    "\n",
    "print(\"\\nBottom 20 words with lowest weighted averages:\")\n",
    "for word, avg in sorted_words[-20:]:\n",
    "    print(f\"{word}: {avg:.2f}\")\n",
    "\n"
   ]
  }
 ],
 "metadata": {
  "kernelspec": {
   "display_name": "cpsc4420",
   "language": "python",
   "name": "python3"
  },
  "language_info": {
   "codemirror_mode": {
    "name": "ipython",
    "version": 3
   },
   "file_extension": ".py",
   "mimetype": "text/x-python",
   "name": "python",
   "nbconvert_exporter": "python",
   "pygments_lexer": "ipython3",
   "version": "3.10.10"
  },
  "orig_nbformat": 4
 },
 "nbformat": 4,
 "nbformat_minor": 2
}
