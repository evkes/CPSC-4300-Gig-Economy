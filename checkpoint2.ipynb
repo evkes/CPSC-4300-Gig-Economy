{
 "cells": [
  {
   "attachments": {},
   "cell_type": "markdown",
   "metadata": {},
   "source": [
    "## Gig Economy Project\n",
    "\n",
    "By: Janet Taylor & Evan Kessler\n",
    "\n",
    "Workers in the gig economy (i.e., Uber, GrubHub, TaskRabbit, etc.) depend on the reviews they get to continue working on the platform. Workers on those platforms are often affected by receiving negative reviews that describe elements that were not under their control. The project explores how the analysis of online reviews can detect when unfair reviews are left to workers and identify the type of unfair review that was left."
   ]
  },
  {
   "cell_type": "code",
   "execution_count": 1,
   "metadata": {},
   "outputs": [],
   "source": [
    "import pandas as pd"
   ]
  },
  {
   "cell_type": "code",
   "execution_count": 7,
   "metadata": {},
   "outputs": [
    {
     "data": {
      "text/plain": [
       "0    all your driver's we very good, knowledgeable and friendly. however, ellie was exceptional. she established a rapport with my daughter and i in the very short time we were in the car with her. she was helpful, answered our questions about the island and even gave us a few suggestions on places she enjoyed eating. which in fact we did try freda's and it was good. thank you, ellie, for your service, customer service and helpfulness!\n",
       "1                                                                                                                                                                driver canceled the ride because he couldn’t find us and we were charged $5.  we were waiting for him but he didn’t show up.  when i tried contacting him, i went directly into voicemail but couldn’t leave a message.  had to order another ride and the second driver picked us up.\n",
       "2                                                                                                                                                                      uber driver complained he does not know the route to destination. refused to talk to my friend who was trying to guide us. dropped me off 10 mins away from destination. demanded payment when it was already paid thro my amex. uber has not cared to respond to my complaints.\n",
       "3                                                    my drivers were great, on time, comfortable people, clean, enjoyed the ride. i would've given 5 stars if the price had been reasonable. a 2 mile 5 minute ride should not cost $27 one way and add a tip!! geez!! then to get home. a reasonable fee would be $12 one way! if it was within my budget would use uber more often.\\r\\nattn corporate please reconsider pricing for seniors thank you\n",
       "4                                                                                       my debit card was charged twice for a pre schedule ride on february 15th. the original driver never made pickup. i was also charged a cancellation fee after i schedule another ride. the issue has not been resolved by uber. i am a very dissatisfied customer. i will never use uber again, i feel i am being scammed.\\r\\nuber don't send me anymore emails.\n",
       "Name: Review Body, dtype: object"
      ]
     },
     "execution_count": 7,
     "metadata": {},
     "output_type": "execute_result"
    }
   ],
   "source": [
    "uber = pd.read_csv(\"uber_cleaned.csv\")\n",
    "lyft = pd.read_csv(\"lyft_cleaned.csv\")\n",
    "pd.options.display.max_colwidth = 500\n",
    "uber[\"Review Body\"].head()"
   ]
  }
 ],
 "metadata": {
  "kernelspec": {
   "display_name": "cpsc4420",
   "language": "python",
   "name": "python3"
  },
  "language_info": {
   "codemirror_mode": {
    "name": "ipython",
    "version": 3
   },
   "file_extension": ".py",
   "mimetype": "text/x-python",
   "name": "python",
   "nbconvert_exporter": "python",
   "pygments_lexer": "ipython3",
   "version": "3.10.8"
  },
  "orig_nbformat": 4
 },
 "nbformat": 4,
 "nbformat_minor": 2
}
