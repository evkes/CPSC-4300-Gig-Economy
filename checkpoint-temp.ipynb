{
 "cells": [
  {
   "cell_type": "markdown",
   "metadata": {},
   "source": [
    "## Gig Economy Project\n",
    "\n",
    "By: Janet Taylor & Evan Kessler\n",
    "\n",
    "Workers in the gig economy (i.e., Uber, GrubHub, TaskRabbit, etc.) depend on the reviews they get to continue working on the platform. Workers on those platforms are often affected by receiving negative reviews that describe elements that were not under their control. The project explores how the analysis of online reviews can detect when unfair reviews are left to workers and identify the type of unfair review that was left."
   ]
  },
  {
   "cell_type": "code",
   "execution_count": 1,
   "metadata": {},
   "outputs": [],
   "source": [
    "import pandas as pd\n",
    "from sklearn.linear_model import LogisticRegression\n",
    "from sklearn.model_selection import train_test_split\n",
    "from sklearn.metrics import confusion_matrix, ConfusionMatrixDisplay, accuracy_score, recall_score, precision_score, f1_score\n",
    "from textblob import TextBlob\n",
    "from matplotlib import pyplot as plt\n",
    "import nltk"
   ]
  },
  {
   "cell_type": "code",
   "execution_count": 2,
   "metadata": {},
   "outputs": [
    {
     "data": {
      "text/html": [
       "<div>\n",
       "<style scoped>\n",
       "    .dataframe tbody tr th:only-of-type {\n",
       "        vertical-align: middle;\n",
       "    }\n",
       "\n",
       "    .dataframe tbody tr th {\n",
       "        vertical-align: top;\n",
       "    }\n",
       "\n",
       "    .dataframe thead th {\n",
       "        text-align: right;\n",
       "    }\n",
       "</style>\n",
       "<table border=\"1\" class=\"dataframe\">\n",
       "  <thead>\n",
       "    <tr style=\"text-align: right;\">\n",
       "      <th></th>\n",
       "      <th># Reviews By User</th>\n",
       "      <th>User URL</th>\n",
       "      <th>State</th>\n",
       "      <th>Username</th>\n",
       "      <th>Country</th>\n",
       "      <th>Date Review Given</th>\n",
       "      <th>Invited</th>\n",
       "      <th>Review URL</th>\n",
       "      <th>Review Title</th>\n",
       "      <th>Review Body</th>\n",
       "      <th>Date of Experience</th>\n",
       "      <th>Rating</th>\n",
       "      <th>Company</th>\n",
       "      <th>Unfair</th>\n",
       "    </tr>\n",
       "  </thead>\n",
       "  <tbody>\n",
       "    <tr>\n",
       "      <th>0</th>\n",
       "      <td>3</td>\n",
       "      <td>https://www.trustpilot.com/users/602209d7fe424...</td>\n",
       "      <td>KA</td>\n",
       "      <td>KATHLEEN</td>\n",
       "      <td>US</td>\n",
       "      <td>5 hours ago</td>\n",
       "      <td>True</td>\n",
       "      <td>https://www.trustpilot.com/reviews/63f228859b6...</td>\n",
       "      <td>Ellie was exceptional</td>\n",
       "      <td>all your driver's we very good, knowledgeable ...</td>\n",
       "      <td>2023-02-16</td>\n",
       "      <td>5</td>\n",
       "      <td>Uber</td>\n",
       "      <td>False</td>\n",
       "    </tr>\n",
       "    <tr>\n",
       "      <th>1</th>\n",
       "      <td>1</td>\n",
       "      <td>https://www.trustpilot.com/users/63f17dca2c3e9...</td>\n",
       "      <td>TL</td>\n",
       "      <td>Thomas Littleton</td>\n",
       "      <td>US</td>\n",
       "      <td>17 hours ago</td>\n",
       "      <td>True</td>\n",
       "      <td>https://www.trustpilot.com/reviews/63f17dcb9b6...</td>\n",
       "      <td>Disappointed</td>\n",
       "      <td>driver canceled the ride because he couldn’t f...</td>\n",
       "      <td>2023-02-16</td>\n",
       "      <td>3</td>\n",
       "      <td>Uber</td>\n",
       "      <td>False</td>\n",
       "    </tr>\n",
       "    <tr>\n",
       "      <th>2</th>\n",
       "      <td>1</td>\n",
       "      <td>https://www.trustpilot.com/users/63f1a4db8f663...</td>\n",
       "      <td>NaN</td>\n",
       "      <td>kumar kanakapura</td>\n",
       "      <td>IN</td>\n",
       "      <td>14 hours ago</td>\n",
       "      <td>False</td>\n",
       "      <td>https://www.trustpilot.com/reviews/63f1a4ef6f3...</td>\n",
       "      <td>Nasty behavior of Uber auto driver</td>\n",
       "      <td>uber driver complained he does not know the ro...</td>\n",
       "      <td>2023-02-17</td>\n",
       "      <td>1</td>\n",
       "      <td>Uber</td>\n",
       "      <td>False</td>\n",
       "    </tr>\n",
       "    <tr>\n",
       "      <th>3</th>\n",
       "      <td>2</td>\n",
       "      <td>https://www.trustpilot.com/users/5d1540199a289...</td>\n",
       "      <td>TL</td>\n",
       "      <td>tlsg1951</td>\n",
       "      <td>US</td>\n",
       "      <td>2 days ago</td>\n",
       "      <td>True</td>\n",
       "      <td>https://www.trustpilot.com/reviews/63f02b579b6...</td>\n",
       "      <td>drivers were great but</td>\n",
       "      <td>my drivers were great, on time, comfortable pe...</td>\n",
       "      <td>2023-02-14</td>\n",
       "      <td>4</td>\n",
       "      <td>Uber</td>\n",
       "      <td>True</td>\n",
       "    </tr>\n",
       "    <tr>\n",
       "      <th>4</th>\n",
       "      <td>2</td>\n",
       "      <td>https://www.trustpilot.com/users/5e35c6d6ddcef...</td>\n",
       "      <td>TE</td>\n",
       "      <td>Terry</td>\n",
       "      <td>US</td>\n",
       "      <td>2 days ago</td>\n",
       "      <td>True</td>\n",
       "      <td>https://www.trustpilot.com/reviews/63f013789b6...</td>\n",
       "      <td>My debit card was charged twice for a…</td>\n",
       "      <td>my debit card was charged twice for a pre sche...</td>\n",
       "      <td>2023-02-15</td>\n",
       "      <td>1</td>\n",
       "      <td>Uber</td>\n",
       "      <td>False</td>\n",
       "    </tr>\n",
       "  </tbody>\n",
       "</table>\n",
       "</div>"
      ],
      "text/plain": [
       "  # Reviews By User                                           User URL State  \\\n",
       "0                 3  https://www.trustpilot.com/users/602209d7fe424...    KA   \n",
       "1                 1  https://www.trustpilot.com/users/63f17dca2c3e9...    TL   \n",
       "2                 1  https://www.trustpilot.com/users/63f1a4db8f663...   NaN   \n",
       "3                 2  https://www.trustpilot.com/users/5d1540199a289...    TL   \n",
       "4                 2  https://www.trustpilot.com/users/5e35c6d6ddcef...    TE   \n",
       "\n",
       "           Username Country Date Review Given  Invited  \\\n",
       "0          KATHLEEN      US       5 hours ago     True   \n",
       "1  Thomas Littleton      US      17 hours ago     True   \n",
       "2  kumar kanakapura      IN      14 hours ago    False   \n",
       "3          tlsg1951      US        2 days ago     True   \n",
       "4             Terry      US        2 days ago     True   \n",
       "\n",
       "                                          Review URL  \\\n",
       "0  https://www.trustpilot.com/reviews/63f228859b6...   \n",
       "1  https://www.trustpilot.com/reviews/63f17dcb9b6...   \n",
       "2  https://www.trustpilot.com/reviews/63f1a4ef6f3...   \n",
       "3  https://www.trustpilot.com/reviews/63f02b579b6...   \n",
       "4  https://www.trustpilot.com/reviews/63f013789b6...   \n",
       "\n",
       "                             Review Title  \\\n",
       "0                   Ellie was exceptional   \n",
       "1                            Disappointed   \n",
       "2      Nasty behavior of Uber auto driver   \n",
       "3                  drivers were great but   \n",
       "4  My debit card was charged twice for a…   \n",
       "\n",
       "                                         Review Body Date of Experience  \\\n",
       "0  all your driver's we very good, knowledgeable ...         2023-02-16   \n",
       "1  driver canceled the ride because he couldn’t f...         2023-02-16   \n",
       "2  uber driver complained he does not know the ro...         2023-02-17   \n",
       "3  my drivers were great, on time, comfortable pe...         2023-02-14   \n",
       "4  my debit card was charged twice for a pre sche...         2023-02-15   \n",
       "\n",
       "   Rating Company Unfair  \n",
       "0       5    Uber  False  \n",
       "1       3    Uber  False  \n",
       "2       1    Uber  False  \n",
       "3       4    Uber   True  \n",
       "4       1    Uber  False  "
      ]
     },
     "execution_count": 2,
     "metadata": {},
     "output_type": "execute_result"
    }
   ],
   "source": [
    "uber = pd.read_csv(\"uber_cleaned.csv\")\n",
    "lyft = pd.read_csv(\"lyft_cleaned.csv\")\n",
    "uber.head()"
   ]
  },
  {
   "cell_type": "code",
   "execution_count": 3,
   "metadata": {},
   "outputs": [],
   "source": [
    "sentiment_scores = []\n",
    "for review in uber['Review Body']:\n",
    "    blob = TextBlob(review)\n",
    "    sentiment_scores.append(blob.sentiment.polarity)\n",
    "\n",
    "# Add the sentiment polarity scores as a new column in the dataframe\n",
    "uber['Sentiment_Polarity'] = sentiment_scores"
   ]
  },
  {
   "cell_type": "code",
   "execution_count": 4,
   "metadata": {},
   "outputs": [],
   "source": [
    "labeled = uber[uber.Unfair.notnull()][[\"# Reviews By User\", \"Invited\", \"Sentiment_Polarity\", \"Review Body\", \"Rating\",  \"Unfair\"]]\n",
    "labeled = labeled.astype({'Invited': 'int32', \"Unfair\": 'int32'})\n",
    "unpopped = labeled.copy()\n",
    "labels = labeled.pop(\"Unfair\")\n",
    "\n",
    "labeled[\"Review Body\"] = [str(TextBlob(review).correct()) for review in labeled[\"Review Body\"]]\n",
    "\n",
    "X_train, X_test, y_train, y_test = train_test_split(labeled, labels, test_size=0.33, random_state=938)"
   ]
  },
  {
   "cell_type": "code",
   "execution_count": 5,
   "metadata": {},
   "outputs": [
    {
     "name": "stdout",
     "output_type": "stream",
     "text": [
      "[[133   9]\n",
      " [ 17   6]]\n",
      "0.8424242424242424\n",
      "0.2608695652173913\n",
      "23\n"
     ]
    }
   ],
   "source": [
    "from textblob.classifiers import NaiveBayesClassifier\n",
    "\n",
    "cl_train = []\n",
    "for x, y in zip(X_train[\"Review Body\"], y_train):\n",
    "    cl_train.append((x, y))\n",
    "\n",
    "\n",
    "cl = NaiveBayesClassifier(cl_train, format='json')\n",
    "\n",
    "predictions = [cl.classify(item) for item in X_test[\"Review Body\"]]\n",
    "print(confusion_matrix(y_test, predictions))\n",
    "print(accuracy_score(y_test, predictions))\n",
    "print(recall_score(y_test, predictions))\n",
    "print(len(list(filter(lambda x: x, y_test))))\n",
    "\n",
    "labeled['BayesResult'] = [cl.classify(x) for x in labeled[\"Review Body\"]]\n",
    "\n",
    "X_train, X_test, y_train, y_test = train_test_split(labeled, labels, test_size=0.33, random_state=938)\n",
    "\n"
   ]
  },
  {
   "cell_type": "code",
   "execution_count": 6,
   "metadata": {},
   "outputs": [
    {
     "name": "stdout",
     "output_type": "stream",
     "text": [
      "[[129  13]\n",
      " [ 10  13]]\n",
      "0.8606060606060606\n",
      "0.5652173913043478\n",
      "23 26\n"
     ]
    }
   ],
   "source": [
    "lr = LogisticRegression()\n",
    "lr.fit(X_train.loc[:, ~X_train.columns.isin([\"Review Body\", \"BayesResult\"])], y_train)\n",
    "\n",
    "\n",
    "predictions = lr.predict(X_test.loc[:, ~X_test.columns.isin([\"Review Body\", \"BayesResult\"])])\n",
    "predictions\n",
    "print(confusion_matrix(y_test, predictions))\n",
    "print(accuracy_score(y_test, predictions))\n",
    "print(recall_score(y_test, predictions))\n",
    "print(len(list(filter(lambda x: x, y_test))), len(list(filter(lambda x: x, predictions))))"
   ]
  },
  {
   "cell_type": "code",
   "execution_count": 7,
   "metadata": {},
   "outputs": [
    {
     "name": "stdout",
     "output_type": "stream",
     "text": [
      "[[134   8]\n",
      " [ 15   8]]\n",
      "0.8606060606060606\n",
      "0.34782608695652173\n",
      "23 16\n"
     ]
    }
   ],
   "source": [
    "lr = LogisticRegression()\n",
    "lr.fit(X_train.loc[:, ~X_train.columns.isin([\"Review Body\"])], y_train)\n",
    "\n",
    "\n",
    "predictions = lr.predict(X_test.loc[:, ~X_test.columns.isin([\"Review Body\"])])\n",
    "predictions\n",
    "print(confusion_matrix(y_test, predictions))\n",
    "print(accuracy_score(y_test, predictions))\n",
    "print(recall_score(y_test, predictions))\n",
    "print(len(list(filter(lambda x: x, y_test))), len(list(filter(lambda x: x, predictions))))"
   ]
  },
  {
   "cell_type": "code",
   "execution_count": 8,
   "metadata": {},
   "outputs": [
    {
     "name": "stdout",
     "output_type": "stream",
     "text": [
      "SVC kernel is poly\n",
      "WITH SENTIMENT ANALYSIS\n"
     ]
    },
    {
     "data": {
      "image/png": "[encoded data removed]",
      "text/plain": [
       "<Figure size 125x125 with 2 Axes>"
      ]
     },
     "metadata": {},
     "output_type": "display_data"
    },
    {
     "name": "stdout",
     "output_type": "stream",
     "text": [
      "Accuracy: 0.9212121212121213\n",
      "Recall: 0.8260869565217391\n",
      "Precision: 0.6785714285714286\n",
      "F1: 0.7450980392156864\n",
      "\n",
      "WITHOUT SENTIMENT ANALYSIS\n"
     ]
    },
    {
     "data": {
      "image/png": "[encoded data removed]",
      "text/plain": [
       "<Figure size 125x125 with 2 Axes>"
      ]
     },
     "metadata": {},
     "output_type": "display_data"
    },
    {
     "name": "stdout",
     "output_type": "stream",
     "text": [
      "Accuracy: 0.9151515151515152\n",
      "Recall: 1.0\n",
      "Precision: 0.6216216216216216\n",
      "F1: 0.7666666666666667\n"
     ]
    }
   ],
   "source": [
    "from sklearn.svm import SVC\n",
    "\n",
    "kernel = 'poly'\n",
    "lr = SVC(kernel=kernel, degree=8, class_weight='balanced', coef0=2.4, shrinking=False)\n",
    "print(\"SVC kernel is \" + kernel)\n",
    "\n",
    "\n",
    "def perform_SVC(exclude):\n",
    "    exclude = ~X_train.columns.isin(exclude)    \n",
    "    lr.fit(X_train.loc[:, exclude], y_train)\n",
    "    predictions = lr.predict(X_test.loc[:, exclude])\n",
    "    predictions\n",
    "    _, ax = plt.subplots(figsize=(1.25, 1.25))\n",
    "    disp = ConfusionMatrixDisplay(confusion_matrix(y_test, predictions))\n",
    "    disp.plot(ax=ax)\n",
    "    plt.show()\n",
    "    print(\"Accuracy:\", accuracy_score(y_test, predictions))\n",
    "    print(\"Recall:\", recall_score(y_test, predictions))\n",
    "    print(\"Precision:\", precision_score(y_test, predictions))\n",
    "    print(\"F1:\", f1_score(y_test, predictions))\n",
    "    \n",
    "\n",
    "print(\"WITH SENTIMENT ANALYSIS\")\n",
    "perform_SVC([\"Review Body\"])\n",
    "\n",
    "print(\"\\nWITHOUT SENTIMENT ANALYSIS\")\n",
    "perform_SVC([\"Review Body\", \"Sentiment_Polarity\", \"BayesResult\"])"
   ]
  },
  {
   "cell_type": "code",
   "execution_count": 9,
   "metadata": {},
   "outputs": [
    {
     "name": "stdout",
     "output_type": "stream",
     "text": [
      "count    500.000000\n",
      "mean       0.332554\n",
      "std        0.300322\n",
      "min       -1.000000\n",
      "25%        0.178750\n",
      "50%        0.386617\n",
      "75%        0.525937\n",
      "max        1.000000\n",
      "Name: Sentiment_Polarity, dtype: float64\n",
      "count    84.000000\n",
      "mean      0.063143\n",
      "std       0.248464\n",
      "min      -0.937500\n",
      "25%      -0.011111\n",
      "50%       0.083333\n",
      "75%       0.211786\n",
      "max       0.700000\n",
      "Name: Sentiment_Polarity, dtype: float64\n",
      "count    416.000000\n",
      "mean       0.386955\n",
      "std        0.280080\n",
      "min       -1.000000\n",
      "25%        0.274306\n",
      "50%        0.437500\n",
      "75%        0.550000\n",
      "max        1.000000\n",
      "Name: Sentiment_Polarity, dtype: float64\n"
     ]
    }
   ],
   "source": [
    "import matplotlib.pyplot as plt\n",
    "\n",
    "print(labeled[\"Sentiment_Polarity\"].describe())\n",
    "print(unpopped[unpopped.Unfair == 1][\"Sentiment_Polarity\"].describe())\n",
    "print(unpopped[unpopped.Unfair == 0][\"Sentiment_Polarity\"].describe())"
   ]
  }
 ],
 "metadata": {
  "kernelspec": {
   "display_name": "cpsc4420",
   "language": "python",
   "name": "python3"
  },
  "language_info": {
   "codemirror_mode": {
    "name": "ipython",
    "version": 3
   },
   "file_extension": ".py",
   "mimetype": "text/x-python",
   "name": "python",
   "nbconvert_exporter": "python",
   "pygments_lexer": "ipython3",
   "version": "3.8.10"
  },
  "orig_nbformat": 4
 },
 "nbformat": 4,
 "nbformat_minor": 2
}
